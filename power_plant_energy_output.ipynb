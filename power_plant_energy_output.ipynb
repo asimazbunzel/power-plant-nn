{
 "cells": [
  {
   "cell_type": "markdown",
   "metadata": {
    "id": "THtQ_AW9EQWP"
   },
   "source": [
    "# Power plant energy output prediction"
   ]
  },
  {
   "cell_type": "code",
   "execution_count": null,
   "metadata": {},
   "outputs": [],
   "source": [
    "%%bash\n",
    "rm -rf CCPP/\n",
    "# retrieve data from the UCI repository\n",
    "wget -q https://archive.ics.uci.edu/static/public/294/combined+cycle+power+plant.zip -O ccpp.zip\n",
    "unzip ccpp.zip && rm ccpp.zip\n",
    "cd CCPP && rm $(ls | grep -v .xlsx)"
   ]
  },
  {
   "cell_type": "markdown",
   "metadata": {
    "id": "gcjOJECfEbsS"
   },
   "source": [
    "### Import libraries"
   ]
  },
  {
   "cell_type": "code",
   "execution_count": null,
   "metadata": {
    "colab": {
     "base_uri": "https://localhost:8080/",
     "height": 35
    },
    "id": "19rYqXEaEKbO",
    "outputId": "b88e7b86-1981-43df-b224-0adc0d536ed3"
   },
   "outputs": [],
   "source": [
    "import numpy as np\n",
    "import pandas as pd\n",
    "import tensorflow as tf\n",
    "\n",
    "# Set random seed for reproducible results\n",
    "SEED_NUMBER = 22\n",
    "tf.random.set_seed(SEED_NUMBER)\n",
    "\n",
    "print(tf.__version__)"
   ]
  },
  {
   "cell_type": "markdown",
   "metadata": {
    "id": "EV1lRYOUEf6f"
   },
   "source": [
    "### Data preprocessing"
   ]
  },
  {
   "cell_type": "code",
   "execution_count": null,
   "metadata": {
    "colab": {
     "base_uri": "https://localhost:8080/",
     "height": 143
    },
    "id": "70SBxclREeCO",
    "outputId": "2308cedc-f0e6-4aa1-b1da-82c23ff9ef31"
   },
   "outputs": [],
   "source": [
    "dataset = pd.read_excel('CCPP/Folds5x2_pp.xlsx')\n",
    "dataset.sample(3)"
   ]
  },
  {
   "cell_type": "markdown",
   "metadata": {
    "id": "LVy5D7gAF9ON"
   },
   "source": [
    "#### Features and predictions"
   ]
  },
  {
   "cell_type": "code",
   "execution_count": null,
   "metadata": {
    "id": "ZUf3vcZLFzn0"
   },
   "outputs": [],
   "source": [
    "x = dataset.iloc[:,:-1].values\n",
    "y = dataset.iloc[:,-1].values"
   ]
  },
  {
   "cell_type": "markdown",
   "metadata": {
    "id": "ePrmcNslHAqi"
   },
   "source": [
    "#### Split into training & testing sets"
   ]
  },
  {
   "cell_type": "code",
   "execution_count": null,
   "metadata": {
    "id": "1a9Tv_8bHFfc"
   },
   "outputs": [],
   "source": [
    "from sklearn.model_selection import train_test_split\n",
    "x_train, x_test, y_train, y_test = train_test_split(x, y, test_size=0.2, random_state=0)"
   ]
  },
  {
   "cell_type": "markdown",
   "metadata": {
    "id": "do3lyhwYEkhn"
   },
   "source": [
    "### Neural network"
   ]
  },
  {
   "cell_type": "markdown",
   "metadata": {
    "id": "LK-AhGxjINdI"
   },
   "source": [
    "#### Init NN"
   ]
  },
  {
   "cell_type": "code",
   "execution_count": null,
   "metadata": {
    "id": "E7rcGOE9EmeB"
   },
   "outputs": [],
   "source": [
    "nn = tf.keras.models.Sequential()\n",
    "\n",
    "# first layer: input & first hidden\n",
    "nn.add(tf.keras.layers.Dense(units=6, activation='relu'))\n",
    "nn.add(tf.keras.layers.Dense(units=6, activation='relu'))\n",
    "nn.add(tf.keras.layers.Dense(units=1))"
   ]
  },
  {
   "cell_type": "markdown",
   "metadata": {
    "id": "WPTTcUL-Y1XO"
   },
   "source": [
    "#### Training NN"
   ]
  },
  {
   "cell_type": "markdown",
   "metadata": {
    "id": "0t3nK4W1ZM4C"
   },
   "source": [
    "##### Compile"
   ]
  },
  {
   "cell_type": "code",
   "execution_count": null,
   "metadata": {
    "id": "SG2mvua7Y2y3"
   },
   "outputs": [],
   "source": [
    "nn.compile(optimizer='adam', loss='mean_squared_error', metrics=['accuracy'])"
   ]
  },
  {
   "cell_type": "markdown",
   "metadata": {
    "id": "lC02PswOZOYs"
   },
   "source": [
    "##### Training set"
   ]
  },
  {
   "cell_type": "code",
   "execution_count": null,
   "metadata": {
    "colab": {
     "base_uri": "https://localhost:8080/"
    },
    "id": "RY8I11ZqZU9n",
    "outputId": "d873615f-48c4-4723-918c-3d6e186a1448"
   },
   "outputs": [],
   "source": [
    "history = nn.fit(x=x_train, y=y_train, batch_size=32, epochs=100)"
   ]
  },
  {
   "cell_type": "markdown",
   "metadata": {
    "id": "F_VdMDqdrZ9d"
   },
   "source": [
    "##### Metrics information graphic"
   ]
  },
  {
   "cell_type": "code",
   "execution_count": null,
   "metadata": {
    "id": "3D8PtpQxogrT"
   },
   "outputs": [],
   "source": [
    "import matplotlib.pyplot as plt\n",
    "from matplotlib.ticker import MultipleLocator\n",
    "\n",
    "acc = np.array(history.history['accuracy'])\n",
    "loss = np.array(history.history['loss'])\n",
    "epochs = range(1, len(acc)+1)\n",
    "\n",
    "fig, ax = plt.subplots()\n",
    "ax.grid(ls=\":\")\n",
    "ax.set_yscale('log')\n",
    "\n",
    "# axis params\n",
    "ax.set_xticks(np.arange(0, np.max(epochs)+1, 10))\n",
    "ax.xaxis.set_minor_locator(MultipleLocator(5))\n",
    "ax.set_xlim([0, np.max(epochs)+0.5])\n",
    "\n",
    "# ax.set_yticks(np.arange(0, np.max(loss)+1, 5))\n",
    "# ax.yaxis.set_minor_locator(MultipleLocator(1))\n",
    "ax.set_ylim([8, np.max(loss)+0.5])\n",
    "\n",
    "ax.plot(epochs, acc*1000, c=\"black\", lw=2, label=\"accuracy (x 1000)\")\n",
    "ax.plot(epochs, loss, c=\"blue\", lw=2, label=\"loss\")\n",
    "\n",
    "ax.set_xlabel(\"Epochs\")\n",
    "ax.set_ylabel(\"Metrics\")\n",
    "\n",
    "ax.legend(frameon=True, fancybox=True, facecolor=\"lightgray\",\n",
    "           edgecolor=\"dimgray\", framealpha=1.0,)\n",
    "plt.show()"
   ]
  },
  {
   "cell_type": "markdown",
   "metadata": {
    "id": "OHpJemMLZO1G"
   },
   "source": [
    "#### Predictions"
   ]
  },
  {
   "cell_type": "code",
   "execution_count": null,
   "metadata": {
    "colab": {
     "base_uri": "https://localhost:8080/"
    },
    "id": "d_HEjiZLZUTc",
    "outputId": "57f15366-b268-4bb5-840b-1f23a3a2bc47"
   },
   "outputs": [],
   "source": [
    "y_pred = nn.predict(x=x_test)"
   ]
  },
  {
   "cell_type": "markdown",
   "metadata": {
    "id": "upj5SewhrgwA"
   },
   "source": [
    "##### Comparison between test and predictions"
   ]
  },
  {
   "cell_type": "code",
   "execution_count": null,
   "metadata": {
    "id": "zG7s4Po6ozI3"
   },
   "outputs": [],
   "source": [
    "# compute difference between predictions and test values\n",
    "diff = (y_pred.reshape(len(y_pred),1) - y_test.reshape(len(y_test), 1))"
   ]
  },
  {
   "cell_type": "code",
   "execution_count": null,
   "metadata": {
    "colab": {
     "base_uri": "https://localhost:8080/",
     "height": 449
    },
    "id": "uqvEqoIsmm3t",
    "outputId": "4468df19-bb79-4207-88da-eac5b8f03f01"
   },
   "outputs": [],
   "source": [
    "# number of elements in the same\n",
    "sample = range(1, len(y_pred)+1)\n",
    "\n",
    "fig, ax = plt.subplots()\n",
    "ax.grid(ls=\":\")\n",
    "\n",
    "# axis param\n",
    "ax.set_xlim([0, np.max(sample)+0.5])\n",
    "\n",
    "# make scatter plot\n",
    "ax.scatter(sample, diff, s=10)\n",
    "\n",
    "# axis label\n",
    "ax.set_xlabel(\"Sample element\")\n",
    "ax.set_ylabel(\"Difference (y$_{\\\\rm pred}$ - y$_{\\\\rm test}$)\")\n",
    "\n",
    "plt.show();"
   ]
  }
 ],
 "metadata": {
  "colab": {
   "provenance": []
  },
  "kernelspec": {
   "display_name": "Python 3 (ipykernel)",
   "language": "python",
   "name": "python3"
  },
  "language_info": {
   "codemirror_mode": {
    "name": "ipython",
    "version": 3
   },
   "file_extension": ".py",
   "mimetype": "text/x-python",
   "name": "python",
   "nbconvert_exporter": "python",
   "pygments_lexer": "ipython3",
   "version": "3.11.5"
  }
 },
 "nbformat": 4,
 "nbformat_minor": 4
}
